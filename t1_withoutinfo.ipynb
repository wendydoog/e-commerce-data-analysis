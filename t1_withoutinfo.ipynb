{
 "cells": [
  {
   "cell_type": "markdown",
   "metadata": {},
   "source": [
    "\n",
    "# Table of Contents\n",
    "<ul>\n",
    "<li><a href=\"#intro\">Introduction</a></li>\n",
    "<li><a href=\"#wrangling\">Data Wrangling</a></li>\n",
    "<li><a href=\"#eda\">Exploratory Data Analysis</a></li>\n",
    "<li><a href=\"#conclusions\">Conclusions</a></li>\n",
    "</ul>\n",
    "\n",
    "\n",
    "\n",
    "\n"
   ]
  },
  {
   "cell_type": "markdown",
   "metadata": {},
   "source": [
    "<a id='intro'></a>\n",
    "# Introduction\n",
    "\n",
    "> This document is made for dataset `***encrypted.csv`. In <a href=\"#wrangling\">Data Wrangling</a> part, The quality and tidiness issue have been addressed and cleaned. In <a href=\"#eda\">Exploratory Data Analysis</a> part, the features have been discussed one by one. And customer preference has shown in <a href=\"#type\">type, color and material exploratory</a>.\n",
    "\n",
    "\n",
    "## QNA:\n",
    "\n",
    "###  **What are major features worth of exploring in this dataset?**\n",
    "\n",
    "#### 1. Catogorical features:\n",
    "\n",
    "**Catogorical variables:**\n",
    "> - `fulfillment_status`\n",
    "> - `financial_status`\n",
    "> - Product Types: `lineitem_type`, `lineitem_color`, `lineitem_material`\n",
    "> -Adresses: `billing_city`, `billing_province`, `billing_country`, `shipping_city`, `shipping_province`, `shipping_country`\n",
    "> - `risk_level`\n",
    "\n",
    "**Binary variables:**\n",
    "> - `accepts_marketing`\n",
    "> - `lineitem_taxable`\n",
    "\n",
    "\n",
    "#### 2. Numerical features:\n",
    "**Continuous varibles:**\n",
    "> - Payment amount:\n",
    "> Payment amount include `subtotal`, `shipping`, `total`, `lineitem_price` and `refunded_amount`.\n",
    "\n",
    "\n",
    "> - Time Series: \n",
    "> `paid_at`, `fulfilled_at`, `created_at` and  `cancelled_at`.\n",
    "\n",
    "\n",
    "**Discrete variables:**\n",
    "> - `lineitem_quantity`\n",
    "       \n",
    "       \n",
    "### **What features have NO need to explore in this dataset?**\n",
    "\n",
    "> In this dataset, we actually have some columns that recorded a single value or recorded the same thing as the other column. They are redundant column and the single value can be recorded seperately. They are:\n",
    "\n",
    "> - Currency: `USD`\n",
    "> - Discount Amount: `0.0`\n",
    "> - Taxes: `0.0`\n",
    "> - Shipping Method: `encrypted`  \n",
    "> - payment method: `encrypted`\n",
    "> - Lineitem requires shipping: `True`\n",
    "> - lineitem fulfillment status: The same as fulfillment status.\n",
    "> - Note attributes: Only one default record contains in `note_attributes`, which is \n",
    "`encrypted` And its lineitem name is: `encrypted`. As we eliminate the special case in our cleaned dataset later in data wrangling part, this column becomes redundant for us to do exploration.\n",
    "> - Lineitem name and Lineitem sku: As we already convert them to type, color and material columns, they become redundant.\n",
    "       \n",
    "   \n",
    "    \n",
    "\n",
    "### **What kind of products it contains in this dataset?**\n",
    "\n",
    ">    - It actually contains two major types of products. \n",
    "        - 001: Encrypted\n",
    "        - 002: Encrypted\n",
    "    - For product 001, it can be classified by colors or materials.\n",
    "        - Color: \n",
    "            - E-white : WH\n",
    "            - Black : BA\n",
    "            - Grey : GY\n",
    "            - Rose Gold : RG\n",
    "            - Blue : BU\n",
    "            - Green : GN\n",
    "        - Material:\n",
    "            - Polycarbonate : PO\n",
    "            - Aluminum : AL\n",
    "    - For product 002, it can be classified by materials.\n",
    "        - Material:\n",
    "            - Polycarbonate : PO\n",
    "            - Aluminum : AL\n",
    "\n"
   ]
  },
  {
   "cell_type": "code",
   "execution_count": 1,
   "metadata": {},
   "outputs": [],
   "source": [
    "# import statements for all of the packages.\n",
    "import numpy as np\n",
    "import pandas as pd\n",
    "import seaborn as sb\n",
    "import matplotlib.pyplot as plt\n",
    "%matplotlib inline"
   ]
  },
  {
   "cell_type": "markdown",
   "metadata": {},
   "source": [
    "<a id='wrangling'></a>\n",
    "# Data Wrangling"
   ]
  },
  {
   "cell_type": "markdown",
   "metadata": {},
   "source": [
    "## Data Accessing and Cleaning\n",
    "\n",
    "### Tidiness and Quality issues:\n",
    "##### 1. Columns names issue:\n",
    "> - In order to munipulate the dataset easier in Python, I renamed every column by setting them all lowercase, and eliminated the blanks, using a `_` to connect words instead.\n",
    "\n",
    "##### 2. Records with missing important features:\n",
    "> - We see that some important features (such as `financial_status`, `fulfillment_status`, and `total`) have 785 records(rows) whereas some of them (such as `lineitem_name` and `lineitem_price`) have 900 records. For those records without financial status or payment information, they are unnessesary even **misleading** to be explored and will be deleted.\n",
    "\n",
    "##### 3. Three features in two columns:\n",
    "> - There are two columns that record the type, color and materials of products. That is, `lineitem_name` and `lineitem_sku`. In fact, the two columns recorded the same thing. They match each other by following ways:\n",
    "\n",
    ">   - type: \n",
    "     - encrypted: 001\n",
    "     - encrypted: 002\n",
    "         \n",
    ">   - color:\n",
    "      - E-white : WH\n",
    "      - Black : BA\n",
    "      - Grey : GY\n",
    "      - Rose Gold : RG\n",
    "      - Blue : BU\n",
    "      - Green : GN\n",
    "\n",
    ">   - materials:\n",
    "      - Polycarbonate : PO\n",
    "      - Aluminum : AL\n",
    "      \n",
    "> I'd like to convert those two columns to three new columns: `lineitem_type`, `lineitem_color`, and `lineitem_material`.\n",
    "\n",
    "> There are three type of products which don't follow the above pattern, and do not contribute to profit. I will delete them from the dataset. Their behavior can be explored individually since they only count 6 records in total. They are:\n",
    "\n",
    ">  - encrypted   (3 records)\n",
    ">  - encrypted   (2 records)\n",
    ">  - encrypted   (1 records)\n",
    "\n",
    "##### 4. Redundant columns:\n",
    "> In this dataset, we actually have some columns that recorded a single value or recorded the same thing as the other column. They are redundant column and the single value can be recorded seperately. They are:\n",
    "\n",
    "> - Currency: `USD`\n",
    "> - Discount Amount: `0.0`\n",
    "> - Taxes: `0.0`\n",
    "> - Shipping Method: `encrypted`  \n",
    "> - payment method: `encrypted`\n",
    "> - Lineitem requires shipping: `True`\n",
    "> - lineitem fulfillment status: The same as fulfillment status.\n",
    "> - Note attributes: Only one default record contains in `note_attributes`, which is \n",
    "`encrypted` And its lineitem name is: `encrypted`. Since we eliminate the special case in our cleaned dataset, this column becomes redundant for us to do exploration.\n",
    "> - Lineitem name and Lineitem sku: As we already convert them to type, color and material columns, they become redundant.\n",
    "\n",
    "\n"
   ]
  },
  {
   "cell_type": "markdown",
   "metadata": {},
   "source": [
    "#### Data Gathering"
   ]
  },
  {
   "cell_type": "code",
   "execution_count": 2,
   "metadata": {},
   "outputs": [],
   "source": [
    "#read the .csv dataset\n",
    "df1 = pd.read_csv('Q4_Batch1_Encryped.csv')"
   ]
  },
  {
   "cell_type": "markdown",
   "metadata": {},
   "source": [
    "#### Data Accessing"
   ]
  },
  {
   "cell_type": "code",
   "execution_count": 3,
   "metadata": {},
   "outputs": [],
   "source": [
    "#encrypted\n",
    "#df1.head(1)"
   ]
  },
  {
   "cell_type": "code",
   "execution_count": 4,
   "metadata": {},
   "outputs": [],
   "source": [
    "#rename the headers\n",
    "df1.rename(columns = lambda x: x.strip().lower().replace(' ','_'),inplace = True)"
   ]
  },
  {
   "cell_type": "code",
   "execution_count": 5,
   "metadata": {},
   "outputs": [],
   "source": [
    "#eliminate the empty financial_status rows.\n",
    "df1 = df1[df1.financial_status.notnull()]"
   ]
  },
  {
   "cell_type": "markdown",
   "metadata": {},
   "source": [
    "#### Convert the columns:\n",
    "> Convert `lineitem_name` and `lineitem_sku` to three new columns: `lineitem_type`, `lineitem_color`, and `lineitem_material`.\n"
   ]
  },
  {
   "cell_type": "markdown",
   "metadata": {},
   "source": [
    "> take a look at the original `lineitem_sku` column:"
   ]
  },
  {
   "cell_type": "code",
   "execution_count": 6,
   "metadata": {},
   "outputs": [],
   "source": [
    "#take a look at the original lineitem_sku column\n",
    "#df1.lineitem_sku.value_counts() #encrypted"
   ]
  },
  {
   "cell_type": "markdown",
   "metadata": {},
   "source": [
    "> take a look at the original `lineitem_name` column:"
   ]
  },
  {
   "cell_type": "code",
   "execution_count": 7,
   "metadata": {},
   "outputs": [],
   "source": [
    "#take a look at the original lineitem_name column\n",
    "#df1.lineitem_name.value_counts() #encrypted"
   ]
  },
  {
   "cell_type": "markdown",
   "metadata": {},
   "source": [
    "> convert the two columns to three new columns: `lineitem_type`, `lineitem_color` and `lineitem_material`"
   ]
  },
  {
   "cell_type": "code",
   "execution_count": 8,
   "metadata": {},
   "outputs": [],
   "source": [
    "#convert those two column to three new columns\n",
    "new = df1.lineitem_sku.str.split(\"-\", n = 2, expand = True) \n",
    "new = new[(new[0] == '001') | (new[0] == '002')]\n",
    "df1['lineitem_type'] = new[0]\n",
    "df1['lineitem_color'] = new[(new[1] != 'AL') & (new[1] != 'PO')][1]\n",
    "df1['lineitem_material'] = new.apply(lambda x: 'AL' if ((x[1] == 'AL') | (x[2] == 'AL')) else ('PO' if ((x[1] == 'PO') | (x[2] == 'PO')) else None), axis = 1)\n",
    "df1 = df1[df1.lineitem_type.notnull()]\n"
   ]
  },
  {
   "cell_type": "code",
   "execution_count": 9,
   "metadata": {},
   "outputs": [],
   "source": [
    "df = df1.drop(['lineitem_name','lineitem_sku','currency', 'discount_amount', 'taxes', 'shipping_method', 'payment_method','lineitem_requires_shipping','lineitem_fulfillment_status','note_attributes'], axis = 1)"
   ]
  },
  {
   "cell_type": "markdown",
   "metadata": {},
   "source": [
    "<a id='eda'></a>\n",
    "## Exploratory Data Analysis"
   ]
  },
  {
   "cell_type": "markdown",
   "metadata": {},
   "source": [
    "#### Export the cleaned dataset to cleaned_Q4_Batch1_Encryped.csv file\n"
   ]
  },
  {
   "cell_type": "code",
   "execution_count": 10,
   "metadata": {},
   "outputs": [],
   "source": [
    "df.to_csv('cleaned_Q4_Batch1_Encryped.csv')"
   ]
  },
  {
   "cell_type": "markdown",
   "metadata": {},
   "source": [
    "\n",
    "#### In this exploratory data analysis part, we discuss all features contained in the cleaned table one by one. Following the order below:\n",
    "\n",
    "**1. Catogorical features:**\n",
    "\n",
    "Catogorical variables:\n",
    "> - `fulfillment_status` <a href=\"#fulfilled\">fulfillment_status</a>\n",
    "> - `financial_status` <a href=\"#financial\">financial_status</a>\n",
    "> - Product Types: `lineitem_type`, `lineitem_color`, `lineitem_material` <a href=\"#type\">product types</a>\n",
    "\n",
    "> -Addresses: `billing_city`, `billing_province`, `billing_country`, `shipping_city`, `shipping_province`, `shipping_country` <a href=\"#address\">addresses</a>\n",
    "> - `risk_level` <a href=\"#risk\">risk_level</a>\n",
    "\n",
    "Binary variables:\n",
    "> - `accepts_marketing` <a href=\"#marketing\">accepts_marketing</a>\n",
    "> - `lineitem_taxable` <a href=\"#taxable\">lineitem_taxable</a>\n",
    "\n",
    "\n",
    "**2. Numerical features:**\n",
    "\n",
    "Continuous varibles:\n",
    "> - Payment amount:\n",
    "> Payment amount include `subtotal`, `shipping`, `total`, `lineitem_price` and `refunded_amount`.\n",
    "\n",
    "\n",
    "> - Time Series: \n",
    "> `paid_at`, `fulfilled_at`, `created_at` and  `cancelled_at`.<a href=\"#time\">time_series</a>\n",
    "\n",
    "\n",
    "Discrete variables:\n",
    "> - `lineitem_quantity` <a href=\"#quantity\">lineitem_quantity</a>\n",
    "       "
   ]
  },
  {
   "cell_type": "code",
   "execution_count": null,
   "metadata": {},
   "outputs": [],
   "source": []
  },
  {
   "cell_type": "markdown",
   "metadata": {},
   "source": [
    "### 1. Catogorical features:\n",
    "\n",
    "**Catogorical variables:**\n",
    "<a id='financial'></a>\n",
    "> - `financial_status`\n",
    "\n",
    "> From the table shown below, we see most of orders are paid, and only 20 orders requires refunding. As we only have a few records as refund orders, it's a good sign that the refund rate is pretty low. In fact, the refund rate is 0.02567. \n",
    "\n",
    "> Meanwhile, limited records of refunded order also bring challenge for us to find the features that leads to **refunding**. but we could still found some customer preference based on the paid orders."
   ]
  },
  {
   "cell_type": "code",
   "execution_count": 11,
   "metadata": {},
   "outputs": [
    {
     "data": {
      "text/plain": [
       "paid                  759\n",
       "refunded               14\n",
       "partially_refunded      6\n",
       "Name: financial_status, dtype: int64"
      ]
     },
     "execution_count": 11,
     "metadata": {},
     "output_type": "execute_result"
    }
   ],
   "source": [
    "df.financial_status.value_counts()"
   ]
  },
  {
   "cell_type": "code",
   "execution_count": 12,
   "metadata": {},
   "outputs": [
    {
     "name": "stdout",
     "output_type": "stream",
     "text": [
      "Refund rate is 0.02567\n"
     ]
    }
   ],
   "source": [
    "refund_rate = (len(df) - len(df.query('financial_status == \"paid\"')))/len(df)\n",
    "print(f'Refund rate is {{:.4}}'.format(refund_rate))"
   ]
  },
  {
   "cell_type": "markdown",
   "metadata": {},
   "source": [
    "<a id='fulfilled'></a>\n",
    "> - `fulfilled_status`\n",
    "\n",
    ">  Most(756) of paid orders are **fulfilled** with only 3 unfulfilled.\n",
    "\n",
    ">  Most(5) of partially_refunded orders are **unfulfilled** with only 1 fulfilled.\n",
    "\n",
    ">  All(14) of refunded orders are **unfulfilled**."
   ]
  },
  {
   "cell_type": "code",
   "execution_count": 13,
   "metadata": {},
   "outputs": [
    {
     "data": {
      "text/plain": [
       "fulfilled      757\n",
       "unfulfilled     22\n",
       "Name: fulfillment_status, dtype: int64"
      ]
     },
     "execution_count": 13,
     "metadata": {},
     "output_type": "execute_result"
    }
   ],
   "source": [
    "df.fulfillment_status.value_counts()"
   ]
  },
  {
   "cell_type": "code",
   "execution_count": 14,
   "metadata": {},
   "outputs": [
    {
     "data": {
      "text/plain": [
       "financial_status    fulfillment_status\n",
       "paid                fulfilled             756\n",
       "                    unfulfilled             3\n",
       "partially_refunded  unfulfilled             5\n",
       "                    fulfilled               1\n",
       "refunded            unfulfilled            14\n",
       "Name: fulfillment_status, dtype: int64"
      ]
     },
     "execution_count": 14,
     "metadata": {},
     "output_type": "execute_result"
    }
   ],
   "source": [
    "df.groupby('financial_status').fulfillment_status.value_counts()"
   ]
  },
  {
   "cell_type": "markdown",
   "metadata": {},
   "source": [
    "<a id='type'></a>\n",
    "> - Product Types: `lineitem_type`, `lineitem_color`, `lineitem_material`"
   ]
  },
  {
   "cell_type": "markdown",
   "metadata": {},
   "source": [
    "> 1. `lineitem_type`\n",
    "\n",
    "> We can see 653 orders are type-001 and 126 orders are type-002. From here we can definitely say customers prefer `type-001`. Next we can explore more on different type of products separately to see more detailed preference."
   ]
  },
  {
   "cell_type": "code",
   "execution_count": 15,
   "metadata": {},
   "outputs": [
    {
     "data": {
      "text/plain": [
       "001    653\n",
       "002    126\n",
       "Name: lineitem_type, dtype: int64"
      ]
     },
     "execution_count": 15,
     "metadata": {},
     "output_type": "execute_result"
    }
   ],
   "source": [
    "df.lineitem_type.value_counts()"
   ]
  },
  {
   "cell_type": "markdown",
   "metadata": {},
   "source": [
    "<a id='refund_rate'></a>\n",
    "\n",
    "> What about the refund rate in different type of product?\n",
    "\n",
    "> Type-001 has only 1.225% of refund rate while Type-002 has 9.524% of refund rate. "
   ]
  },
  {
   "cell_type": "code",
   "execution_count": 16,
   "metadata": {},
   "outputs": [
    {
     "data": {
      "text/plain": [
       "financial_status    lineitem_type\n",
       "paid                001              645\n",
       "                    002              114\n",
       "partially_refunded  001                5\n",
       "                    002                1\n",
       "refunded            002               11\n",
       "                    001                3\n",
       "Name: lineitem_type, dtype: int64"
      ]
     },
     "execution_count": 16,
     "metadata": {},
     "output_type": "execute_result"
    }
   ],
   "source": [
    "df1.groupby('financial_status').lineitem_type.value_counts()"
   ]
  },
  {
   "cell_type": "code",
   "execution_count": 17,
   "metadata": {},
   "outputs": [
    {
     "name": "stdout",
     "output_type": "stream",
     "text": [
      "Refund rate of type 001 is 0.01225\n"
     ]
    }
   ],
   "source": [
    "# refund rate of type 001\n",
    "r_rf_001 = len(df1.query('((financial_status == \"partially_refunded\")|(financial_status == \"refunded\")) & lineitem_type == \"001\"'))/len(df1.query('lineitem_type == \"001\"'))\n",
    "print(f'Refund rate of type 001 is {{:.4}}'.format(r_rf_001))\n"
   ]
  },
  {
   "cell_type": "code",
   "execution_count": 18,
   "metadata": {},
   "outputs": [
    {
     "name": "stdout",
     "output_type": "stream",
     "text": [
      "Refund rate of type 002 is 0.09524\n"
     ]
    }
   ],
   "source": [
    "# refund rate of type 002\n",
    "r_rf_002 = len(df1.query('((financial_status == \"partially_refunded\")|(financial_status == \"refunded\")) & lineitem_type == \"002\"'))/len(df1.query('lineitem_type == \"002\"'))\n",
    "print(f'Refund rate of type 002 is {{:.4}}'.format(r_rf_002))"
   ]
  },
  {
   "cell_type": "markdown",
   "metadata": {},
   "source": [
    "> 2. `lineitem_color`\n",
    "\n",
    "> For type 001 product, it has 6 colors to be sold. WH(white), BA(black), GY(grey), GR(red), BU(blue), and GN(green).\n",
    "\n",
    "> From the bar chart below, it's obviously that the white keyboard sold the best. Then Black and Grey. The colored Red, Blue and Green are behind. \n",
    "\n"
   ]
  },
  {
   "cell_type": "code",
   "execution_count": 19,
   "metadata": {},
   "outputs": [
    {
     "data": {
      "image/png": "[encoded data removed]",
      "text/plain": [
       "<Figure size 432x288 with 1 Axes>"
      ]
     },
     "metadata": {
      "needs_background": "light"
     },
     "output_type": "display_data"
    }
   ],
   "source": [
    "ax = df1.query('lineitem_type == \"001\"').lineitem_color.value_counts().plot(kind = 'bar');\n",
    "ax.set_xlabel('Keyborad color', size = 12);\n",
    "ax.set_ylabel('Sales volumn', size = 12);"
   ]
  },
  {
   "cell_type": "markdown",
   "metadata": {},
   "source": [
    "> 3. `lineitem_material`\n",
    "\n",
    "> For both type001 and type002, their materials are two kinds: PO(Polycarbonate) and AL(Aluminum).\n",
    "\n",
    "> The chart below shows the volumn represent different materials and types. \n",
    "\n",
    "> For type001 perchases, customer prefer `Aluminum` material. \n",
    "\n",
    "> For type002 perchases, customer haven't shown any preference on materials."
   ]
  },
  {
   "cell_type": "code",
   "execution_count": 20,
   "metadata": {},
   "outputs": [
    {
     "data": {
      "image/png": "[encoded data removed]",
      "text/plain": [
       "<Figure size 432x288 with 1 Axes>"
      ]
     },
     "metadata": {
      "needs_background": "light"
     },
     "output_type": "display_data"
    }
   ],
   "source": [
    "sb.countplot(data = df, x = 'lineitem_type', hue = 'lineitem_material');"
   ]
  },
  {
   "cell_type": "markdown",
   "metadata": {},
   "source": [
    "<a id='address'></a>\n",
    "> - Addresses: `billing_city`, `billing_province`, `billing_country`, `shipping_city`, `shipping_province`, `shipping_country`\n",
    "\n",
    "> First thing I find is, most of the billing country are the same as shipping country. Only 4 of them didn't match. However, when query the records that billing province is not the same as shipping province, it shows there is 100 records, which is greater than the number of records (= 43) that the billing_city is not the same as shipping city. In fact, it shouldn't happen in real world, as city are the subclass of province. So we may need to check the system deficiency.\n"
   ]
  },
  {
   "cell_type": "code",
   "execution_count": 21,
   "metadata": {},
   "outputs": [
    {
     "name": "stdout",
     "output_type": "stream",
     "text": [
      "number of records that shipping country and billing country don't match: 4\n"
     ]
    }
   ],
   "source": [
    "len_country = len(df.query('billing_country != shipping_country'))\n",
    "print('number of records that shipping country and billing country don\\'t match: {}'.format(len_country))"
   ]
  },
  {
   "cell_type": "code",
   "execution_count": 22,
   "metadata": {},
   "outputs": [
    {
     "name": "stdout",
     "output_type": "stream",
     "text": [
      "number of records that shipping country and billing country don't match: 100\n"
     ]
    }
   ],
   "source": [
    "len_prov = len(df.query('billing_province != shipping_province'))\n",
    "print('number of records that shipping country and billing country don\\'t match: {}'.format(len_prov))"
   ]
  },
  {
   "cell_type": "code",
   "execution_count": 23,
   "metadata": {},
   "outputs": [
    {
     "name": "stdout",
     "output_type": "stream",
     "text": [
      "number of records that shipping country and billing country don't match: 43\n"
     ]
    }
   ],
   "source": [
    "len_city = len(df.query('billing_city != shipping_city'))\n",
    "print('number of records that shipping country and billing country don\\'t match: {}'.format(len_city))"
   ]
  },
  {
   "cell_type": "markdown",
   "metadata": {},
   "source": [
    "> Let's take a look at the map of orders. VN is the country with most of orders, US the second.\n"
   ]
  },
  {
   "cell_type": "markdown",
   "metadata": {},
   "source": [
    "<img src=\"map.png\" width=\"600\" height=\"400\">"
   ]
  },
  {
   "cell_type": "markdown",
   "metadata": {},
   "source": [
    "<a id='risk'></a>\n",
    "> - `risk_level`\n",
    "\n",
    "> In fact, The risk_level of all the `refunded` orders are marked as `low`. In this case, We can't connect the high risk level with high refund rate. "
   ]
  },
  {
   "cell_type": "code",
   "execution_count": 24,
   "metadata": {},
   "outputs": [
    {
     "data": {
      "text/plain": [
       "Low       766\n",
       "High        8\n",
       "Medium      5\n",
       "Name: risk_level, dtype: int64"
      ]
     },
     "execution_count": 24,
     "metadata": {},
     "output_type": "execute_result"
    }
   ],
   "source": [
    "df.risk_level.value_counts()"
   ]
  },
  {
   "cell_type": "code",
   "execution_count": 25,
   "metadata": {},
   "outputs": [
    {
     "data": {
      "text/plain": [
       "financial_status    risk_level\n",
       "paid                Low           746\n",
       "                    High            8\n",
       "                    Medium          5\n",
       "partially_refunded  Low             6\n",
       "refunded            Low            14\n",
       "Name: risk_level, dtype: int64"
      ]
     },
     "execution_count": 25,
     "metadata": {},
     "output_type": "execute_result"
    }
   ],
   "source": [
    "df.groupby('financial_status').risk_level.value_counts()"
   ]
  },
  {
   "cell_type": "markdown",
   "metadata": {},
   "source": [
    "**Binary variables:**"
   ]
  },
  {
   "cell_type": "markdown",
   "metadata": {},
   "source": [
    "<a id='marketing'></a>\n",
    "> - `accepts_marketing`\n",
    "\n",
    "> - Only 10 customers choose `accepts Marketing`. And they are all `paid` orders.\n",
    "> - For partially_refunded and refunded orders, **NO** one choose `accepts Marketing`."
   ]
  },
  {
   "cell_type": "code",
   "execution_count": 26,
   "metadata": {},
   "outputs": [
    {
     "data": {
      "text/plain": [
       "no     769\n",
       "yes     10\n",
       "Name: accepts_marketing, dtype: int64"
      ]
     },
     "execution_count": 26,
     "metadata": {},
     "output_type": "execute_result"
    }
   ],
   "source": [
    "df1.accepts_marketing.value_counts()"
   ]
  },
  {
   "cell_type": "code",
   "execution_count": 27,
   "metadata": {},
   "outputs": [
    {
     "data": {
      "text/plain": [
       "accepts_marketing  financial_status  \n",
       "no                 paid                  749\n",
       "                   refunded               14\n",
       "                   partially_refunded      6\n",
       "yes                paid                   10\n",
       "Name: financial_status, dtype: int64"
      ]
     },
     "execution_count": 27,
     "metadata": {},
     "output_type": "execute_result"
    }
   ],
   "source": [
    "df1.groupby('accepts_marketing').financial_status.value_counts()"
   ]
  },
  {
   "cell_type": "markdown",
   "metadata": {},
   "source": [
    "<a id='taxable'></a>\n",
    "> - `lineitem_taxable`\n",
    "\n",
    "> For not-taxable lineitem orders, the refund rate is 0.01225. \n",
    "\n",
    "> For taxable lineitem orders, the refund rate is 0.09523.\n",
    "\n",
    "> We might say `the taxable lineitem orders has much higher refund rate than not-taxable lineitems`. "
   ]
  },
  {
   "cell_type": "code",
   "execution_count": 28,
   "metadata": {},
   "outputs": [
    {
     "data": {
      "text/plain": [
       "False    653\n",
       "True     126\n",
       "Name: lineitem_taxable, dtype: int64"
      ]
     },
     "execution_count": 28,
     "metadata": {},
     "output_type": "execute_result"
    }
   ],
   "source": [
    "df.lineitem_taxable.value_counts()"
   ]
  },
  {
   "cell_type": "code",
   "execution_count": 29,
   "metadata": {},
   "outputs": [
    {
     "data": {
      "text/plain": [
       "lineitem_taxable  financial_status  \n",
       "False             paid                  645\n",
       "                  partially_refunded      5\n",
       "                  refunded                3\n",
       "True              paid                  114\n",
       "                  refunded               11\n",
       "                  partially_refunded      1\n",
       "Name: financial_status, dtype: int64"
      ]
     },
     "execution_count": 29,
     "metadata": {},
     "output_type": "execute_result"
    }
   ],
   "source": [
    "df.groupby('lineitem_taxable').financial_status.value_counts()"
   ]
  },
  {
   "cell_type": "markdown",
   "metadata": {},
   "source": [
    "### 2. Numerical features:\n",
    "\n",
    "**Continuous varibles:**"
   ]
  },
  {
   "cell_type": "markdown",
   "metadata": {},
   "source": [
    "> - Payment amount:\n",
    "> Payment amount include `subtotal`, `shipping`, `total`, `lineitem_price` and `refunded_amount`.\n",
    "\n",
    "> `total` = `subtotal` + `shipping`\n"
   ]
  },
  {
   "cell_type": "markdown",
   "metadata": {},
   "source": [
    "<a id='time'></a>\n",
    "> - Time Series: \n",
    "> `paid_at`, `fulfilled_at`, `created_at` and  `cancelled_at`.\n",
    ">    - All Time series variables are not real-time. They were recorded grouply which can't show the underlying patterns beneath the time series analysis.\n",
    ">    - `Created at` and `Paid at` are almost the same. The majority of them are recorded grouply at the noon of 11/14/20. 3 records of them are happened around 3am of 11/16/20.\n",
    ">    - For `cancelled_at` column, The records are quiet few and didn't show any patterns. They are all made after midnight. Most of them are around 3am so I believe it's not the real cancelled time made by customer or those records are made in such short-time period, or they are selected with bias.\n",
    ">    - For `fulfilled_at` column, the timestamps are grouped together as well and most of them clustered at 1am 26/12/2020. In reality, the orders won't be clustered that much as the picture shows. It must be system deficiency that causes the inaccuracy.\n",
    ">    - Based on all those evidences, time series analysis is not applied in this dataset."
   ]
  },
  {
   "cell_type": "code",
   "execution_count": 30,
   "metadata": {},
   "outputs": [
    {
     "data": {
      "text/plain": [
       "11/14/20 12:01    335\n",
       "11/14/20 12:02    275\n",
       "11/14/20 12:03     42\n",
       "11/14/20 12:04     22\n",
       "11/14/20 12:05     13\n",
       "11/16/20 3:12       1\n",
       "11/16/20 3:19       1\n",
       "11/16/20 3:18       1\n",
       "Name: paid_at, dtype: int64"
      ]
     },
     "execution_count": 30,
     "metadata": {},
     "output_type": "execute_result"
    }
   ],
   "source": [
    "df.paid_at.value_counts()  "
   ]
  },
  {
   "cell_type": "code",
   "execution_count": 31,
   "metadata": {},
   "outputs": [
    {
     "data": {
      "text/plain": [
       "11/14/20 12:01    358\n",
       "11/14/20 12:02    262\n",
       "11/14/20 12:04     58\n",
       "11/14/20 12:05     49\n",
       "11/14/20 12:03     47\n",
       "11/14/20 12:06      2\n",
       "11/16/20 3:12       1\n",
       "11/16/20 3:19       1\n",
       "11/16/20 3:18       1\n",
       "Name: created_at, dtype: int64"
      ]
     },
     "execution_count": 31,
     "metadata": {},
     "output_type": "execute_result"
    }
   ],
   "source": [
    "df.created_at.value_counts()"
   ]
  },
  {
   "cell_type": "code",
   "execution_count": 32,
   "metadata": {},
   "outputs": [
    {
     "data": {
      "text/plain": [
       "11/16/20 3:09    3\n",
       "12/2/20 23:20    3\n",
       "12/2/20 23:21    2\n",
       "12/2/20 23:19    2\n",
       "11/17/20 4:03    1\n",
       "11/16/20 3:15    1\n",
       "11/17/20 3:59    1\n",
       "11/17/20 3:07    1\n",
       "11/17/20 3:20    1\n",
       "11/22/20 0:05    1\n",
       "11/27/20 3:31    1\n",
       "11/16/20 3:11    1\n",
       "11/16/20 3:10    1\n",
       "11/16/20 3:14    1\n",
       "11/16/20 3:16    1\n",
       "Name: cancelled_at, dtype: int64"
      ]
     },
     "execution_count": 32,
     "metadata": {},
     "output_type": "execute_result"
    }
   ],
   "source": [
    "df.cancelled_at.value_counts()"
   ]
  },
  {
   "cell_type": "code",
   "execution_count": 33,
   "metadata": {},
   "outputs": [
    {
     "data": {
      "text/plain": [
       "0     2020-11-26 01:16:00\n",
       "1     2020-11-26 01:16:00\n",
       "2     2020-11-26 01:16:00\n",
       "3     2020-12-02 05:06:00\n",
       "5     2020-12-02 04:24:00\n",
       "              ...        \n",
       "891   2020-11-26 01:34:00\n",
       "892   2020-11-26 01:34:00\n",
       "893   2020-11-26 01:34:00\n",
       "894   2020-11-26 01:34:00\n",
       "895   2020-11-26 01:34:00\n",
       "Name: fulfilled_at, Length: 779, dtype: datetime64[ns]"
      ]
     },
     "execution_count": 33,
     "metadata": {},
     "output_type": "execute_result"
    }
   ],
   "source": [
    "pd.to_datetime(df.fulfilled_at)"
   ]
  },
  {
   "cell_type": "markdown",
   "metadata": {},
   "source": [
    "> `Fulfilled_at` time packed bubbles made by Tableau:\n",
    "\n",
    "> It shows most of orders clustered at 1am 26/12/2020 with quantity 459. The second high time is at 4am 02/12/2020. \n",
    "\n",
    "> In reality, the orders won't be clustered that much as the picture shows. It must be system deficiency that causes the inaccuracy."
   ]
  },
  {
   "cell_type": "markdown",
   "metadata": {},
   "source": [
    "<img src=\"fulfilled_at.png\" width=\"400\" height=\"300\">"
   ]
  },
  {
   "cell_type": "markdown",
   "metadata": {},
   "source": [
    "**Discrete variables:**\n",
    "<a id='quantity'></a>\n",
    "> - `lineitem_quantity`\n",
    "\n",
    "> In `lineitem_quantity` column, it shows the only 2 order with **Two** type-002 items brought. Nothing special and **No** need to explore further."
   ]
  },
  {
   "cell_type": "code",
   "execution_count": 34,
   "metadata": {},
   "outputs": [
    {
     "data": {
      "text/plain": [
       "1    778\n",
       "2      1\n",
       "Name: lineitem_quantity, dtype: int64"
      ]
     },
     "execution_count": 34,
     "metadata": {},
     "output_type": "execute_result"
    }
   ],
   "source": [
    "df1.lineitem_quantity.value_counts()"
   ]
  },
  {
   "cell_type": "markdown",
   "metadata": {},
   "source": [
    "**Take a look at the only order that contains two products.**"
   ]
  },
  {
   "cell_type": "code",
   "execution_count": 35,
   "metadata": {},
   "outputs": [
    {
     "data": {
      "text/html": [
       "<div>\n",
       "<style scoped>\n",
       "    .dataframe tbody tr th:only-of-type {\n",
       "        vertical-align: middle;\n",
       "    }\n",
       "\n",
       "    .dataframe tbody tr th {\n",
       "        vertical-align: top;\n",
       "    }\n",
       "\n",
       "    .dataframe thead th {\n",
       "        text-align: right;\n",
       "    }\n",
       "</style>\n",
       "<table border=\"1\" class=\"dataframe\">\n",
       "  <thead>\n",
       "    <tr style=\"text-align: right;\">\n",
       "      <th></th>\n",
       "      <th>financial_status</th>\n",
       "      <th>paid_at</th>\n",
       "      <th>fulfillment_status</th>\n",
       "      <th>fulfilled_at</th>\n",
       "      <th>accepts_marketing</th>\n",
       "      <th>currency</th>\n",
       "      <th>subtotal</th>\n",
       "      <th>shipping</th>\n",
       "      <th>taxes</th>\n",
       "      <th>total</th>\n",
       "      <th>...</th>\n",
       "      <th>shipping_province</th>\n",
       "      <th>shipping_country</th>\n",
       "      <th>note_attributes</th>\n",
       "      <th>cancelled_at</th>\n",
       "      <th>payment_method</th>\n",
       "      <th>refunded_amount</th>\n",
       "      <th>risk_level</th>\n",
       "      <th>lineitem_type</th>\n",
       "      <th>lineitem_color</th>\n",
       "      <th>lineitem_material</th>\n",
       "    </tr>\n",
       "  </thead>\n",
       "  <tbody>\n",
       "    <tr>\n",
       "      <th>203</th>\n",
       "      <td>paid</td>\n",
       "      <td>NaN</td>\n",
       "      <td>fulfilled</td>\n",
       "      <td>12/2/20 4:55</td>\n",
       "      <td>no</td>\n",
       "      <td>USD</td>\n",
       "      <td>120.0</td>\n",
       "      <td>30.0</td>\n",
       "      <td>0.0</td>\n",
       "      <td>150.0</td>\n",
       "      <td>...</td>\n",
       "      <td>TX</td>\n",
       "      <td>US</td>\n",
       "      <td>NaN</td>\n",
       "      <td>NaN</td>\n",
       "      <td>NaN</td>\n",
       "      <td>0.0</td>\n",
       "      <td>Low</td>\n",
       "      <td>002</td>\n",
       "      <td>NaN</td>\n",
       "      <td>AL</td>\n",
       "    </tr>\n",
       "  </tbody>\n",
       "</table>\n",
       "<p>1 rows × 34 columns</p>\n",
       "</div>"
      ],
      "text/plain": [
       "    financial_status paid_at fulfillment_status  fulfilled_at  \\\n",
       "203             paid     NaN          fulfilled  12/2/20 4:55   \n",
       "\n",
       "    accepts_marketing currency  subtotal  shipping  taxes  total  ...  \\\n",
       "203                no      USD     120.0      30.0    0.0  150.0  ...   \n",
       "\n",
       "     shipping_province shipping_country note_attributes  cancelled_at  \\\n",
       "203                 TX               US             NaN           NaN   \n",
       "\n",
       "    payment_method  refunded_amount risk_level  lineitem_type  lineitem_color  \\\n",
       "203            NaN              0.0        Low            002             NaN   \n",
       "\n",
       "    lineitem_material  \n",
       "203                AL  \n",
       "\n",
       "[1 rows x 34 columns]"
      ]
     },
     "execution_count": 35,
     "metadata": {},
     "output_type": "execute_result"
    }
   ],
   "source": [
    "df1.query('lineitem_quantity == 2')"
   ]
  },
  {
   "cell_type": "markdown",
   "metadata": {},
   "source": [
    "\n"
   ]
  },
  {
   "cell_type": "markdown",
   "metadata": {},
   "source": [
    "<a id='conclusions'></a>\n",
    "## Conclusions"
   ]
  },
  {
   "cell_type": "markdown",
   "metadata": {},
   "source": [
    "> From the table `Encryped.csv`. We actually care about two things:\n",
    "> 1. the refund orders and the primary features that lead to refund.\n",
    "> 2. Also we'd like to see the customer preference on our products.\n",
    "\n",
    "> For the first thing, we can barely find connections between features and refunded orders. The reason is that the refunded orders have only 20 records. It's hardly to draw conclusions based on such limited data. But I still find some connections that different product type has different refunded rate. \n",
    "\n",
    "> One is, type 002 product have a signifinant higher refunded rate than type 001. On business, we may need to check what cause the high refunded rate on type 002. For example, Is there any quality issue on type 002? Please see <a href=\"#refund_rate\">refund_rate</a> for details.\n",
    "\n",
    "> Also, the taxable lineitem has a much higher refund rate than none-taxable lineitem. see <a href=\"#taxable\">taxable_lineitems</a> for details.\n",
    "\n",
    "> For the second thing, customer have preference on different product type, color and materials. \n",
    "> 1. customers prefer `type-001` compared with `type-002`.\n",
    "> 2. the `white` keyboard sold the best. Then Black and Grey. The colored Red, Blue and Green are behind. \n",
    "> 3. For type001 perchases, customer prefer `Aluminum` material. For type002 perchases, customer haven't shown any preference on materials.\n",
    "\n",
    "> Please see <a href=\"#type\">type, color and material exploratory</a> for details.\n"
   ]
  }
 ],
 "metadata": {
  "kernelspec": {
   "display_name": "Python 3",
   "language": "python",
   "name": "python3"
  },
  "language_info": {
   "codemirror_mode": {
    "name": "ipython",
    "version": 3
   },
   "file_extension": ".py",
   "mimetype": "text/x-python",
   "name": "python",
   "nbconvert_exporter": "python",
   "pygments_lexer": "ipython3",
   "version": "3.8.5"
  }
 },
 "nbformat": 4,
 "nbformat_minor": 4
}
